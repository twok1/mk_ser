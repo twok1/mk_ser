{
 "cells": [
  {
   "cell_type": "code",
   "execution_count": 50,
   "metadata": {},
   "outputs": [
    {
     "data": {
      "text/plain": [
       "['1']"
      ]
     },
     "execution_count": 50,
     "metadata": {},
     "output_type": "execute_result"
    }
   ],
   "source": [
    "def split_by_two(what=str|int) -> list:\n",
    "    what = str(what)[::-1]\n",
    "    return [i[::-1] for i in [what[i:i+2] for i in range(0, len(what), 2)][::-1]]\n",
    "\n",
    "split_by_two(1)"
   ]
  },
  {
   "cell_type": "code",
   "execution_count": 156,
   "metadata": {},
   "outputs": [
    {
     "name": "stdout",
     "output_type": "stream",
     "text": [
      "b'\\xefx11'\n"
     ]
    }
   ],
   "source": [
    "print(b'\\xef' + hex(17)[1:].encode())"
   ]
  },
  {
   "cell_type": "code",
   "execution_count": 160,
   "metadata": {},
   "outputs": [
    {
     "ename": "TypeError",
     "evalue": "string argument without an encoding",
     "output_type": "error",
     "traceback": [
      "\u001b[1;31m---------------------------------------------------------------------------\u001b[0m",
      "\u001b[1;31mTypeError\u001b[0m                                 Traceback (most recent call last)",
      "Cell \u001b[1;32mIn[160], line 1\u001b[0m\n\u001b[1;32m----> 1\u001b[0m \u001b[38;5;28;43mbytes\u001b[39;49m\u001b[43m(\u001b[49m\u001b[38;5;124;43m'\u001b[39;49m\u001b[38;5;124;43m26\u001b[39;49m\u001b[38;5;124;43m'\u001b[39;49m\u001b[43m)\u001b[49m\n",
      "\u001b[1;31mTypeError\u001b[0m: string argument without an encoding"
     ]
    }
   ],
   "source": [
    "bytes('26')"
   ]
  },
  {
   "cell_type": "code",
   "execution_count": 1,
   "metadata": {},
   "outputs": [
    {
     "data": {
      "text/plain": [
       "'0xfe'"
      ]
     },
     "execution_count": 1,
     "metadata": {},
     "output_type": "execute_result"
    }
   ],
   "source": [
    "hex(254)"
   ]
  },
  {
   "cell_type": "code",
   "execution_count": 1,
   "metadata": {},
   "outputs": [],
   "source": [
    "from scapy.all import *\n",
    "\n",
    "a = rdpcap('traff\\\\119-mks6,7,8..0-1.pcapng')\n"
   ]
  },
  {
   "cell_type": "code",
   "execution_count": 4,
   "metadata": {},
   "outputs": [
    {
     "name": "stdout",
     "output_type": "stream",
     "text": [
      "374 [2, 0, 0, 0, 7, 99, 2, 0, 0, 0, 1, 19, 0, 30, 80, 80, 103, 239, 25, 210, 0, 17, 0, 101, 51, 121, 188, 221, 252, 0, 0, 63, 0, 0, 0, 0, 192, 6, 192, 0, 192, 6, 17, 4, 136, 136, 136, 136, 136, 136, 136, 136, 136, 136, 136, 136, 136, 136, 136, 136]\n"
     ]
    }
   ],
   "source": [
    "for num, packet in enumerate(a):\n",
    "    if num == 374:\n",
    "        print(num, list(raw(packet)))\n",
    "    # print(packet[Raw].show())"
   ]
  },
  {
   "cell_type": "code",
   "execution_count": 14,
   "metadata": {},
   "outputs": [
    {
     "data": {
      "text/plain": [
       "('110011', '1111010')"
      ]
     },
     "execution_count": 14,
     "metadata": {},
     "output_type": "execute_result"
    }
   ],
   "source": [
    "bin(51).lstrip('0b'), bin(122).lstrip('0b')"
   ]
  },
  {
   "cell_type": "code",
   "execution_count": 12,
   "metadata": {},
   "outputs": [
    {
     "ename": "ValueError",
     "evalue": "A non-zero length must be specified with an int initialiser.",
     "output_type": "error",
     "traceback": [
      "\u001b[1;31m---------------------------------------------------------------------------\u001b[0m",
      "\u001b[1;31mValueError\u001b[0m                                Traceback (most recent call last)",
      "Cell \u001b[1;32mIn[12], line 4\u001b[0m\n\u001b[0;32m      1\u001b[0m \u001b[38;5;28;01mfrom\u001b[39;00m \u001b[38;5;21;01mbitstring\u001b[39;00m \u001b[38;5;28;01mimport\u001b[39;00m BitArray\n\u001b[0;32m      3\u001b[0m c \u001b[38;5;241m=\u001b[39m BitArray()\n\u001b[1;32m----> 4\u001b[0m \u001b[43mc\u001b[49m\u001b[38;5;241;43m.\u001b[39;49m\u001b[43mint\u001b[49m \u001b[38;5;241m=\u001b[39m \u001b[38;5;241m100\u001b[39m\n\u001b[0;32m      5\u001b[0m \u001b[38;5;28mprint\u001b[39m(c\u001b[38;5;241m.\u001b[39mbin)\n",
      "File \u001b[1;32mc:\\Users\\user\\temp\\mk_ser\\venv\\Lib\\site-packages\\bitstring\\bitarray_.py:126\u001b[0m, in \u001b[0;36mBitArray.__setattr__\u001b[1;34m(self, attribute, value)\u001b[0m\n\u001b[0;32m    123\u001b[0m \u001b[38;5;28;01mdef\u001b[39;00m \u001b[38;5;21m__setattr__\u001b[39m(\u001b[38;5;28mself\u001b[39m, attribute, value) \u001b[38;5;241m-\u001b[39m\u001b[38;5;241m>\u001b[39m \u001b[38;5;28;01mNone\u001b[39;00m:\n\u001b[0;32m    124\u001b[0m     \u001b[38;5;28;01mtry\u001b[39;00m:\n\u001b[0;32m    125\u001b[0m         \u001b[38;5;66;03m# First try the ordinary attribute setter\u001b[39;00m\n\u001b[1;32m--> 126\u001b[0m         \u001b[38;5;28;43msuper\u001b[39;49m\u001b[43m(\u001b[49m\u001b[43m)\u001b[49m\u001b[38;5;241;43m.\u001b[39;49m\u001b[38;5;21;43m__setattr__\u001b[39;49m\u001b[43m(\u001b[49m\u001b[43mattribute\u001b[49m\u001b[43m,\u001b[49m\u001b[43m \u001b[49m\u001b[43mvalue\u001b[49m\u001b[43m)\u001b[49m\n\u001b[0;32m    127\u001b[0m     \u001b[38;5;28;01mexcept\u001b[39;00m \u001b[38;5;167;01mAttributeError\u001b[39;00m:\n\u001b[0;32m    128\u001b[0m         dtype \u001b[38;5;241m=\u001b[39m bitstring\u001b[38;5;241m.\u001b[39mdtypes\u001b[38;5;241m.\u001b[39mDtype(attribute)\n",
      "File \u001b[1;32mc:\\Users\\user\\temp\\mk_ser\\venv\\Lib\\site-packages\\bitstring\\bits.py:670\u001b[0m, in \u001b[0;36mBits._setint\u001b[1;34m(self, int_, length)\u001b[0m\n\u001b[0;32m    668\u001b[0m     length \u001b[38;5;241m=\u001b[39m \u001b[38;5;28mlen\u001b[39m(\u001b[38;5;28mself\u001b[39m)\n\u001b[0;32m    669\u001b[0m \u001b[38;5;28;01mif\u001b[39;00m length \u001b[38;5;129;01mis\u001b[39;00m \u001b[38;5;28;01mNone\u001b[39;00m \u001b[38;5;129;01mor\u001b[39;00m length \u001b[38;5;241m==\u001b[39m \u001b[38;5;241m0\u001b[39m:\n\u001b[1;32m--> 670\u001b[0m     \u001b[38;5;28;01mraise\u001b[39;00m bitstring\u001b[38;5;241m.\u001b[39mCreationError(\u001b[38;5;124m\"\u001b[39m\u001b[38;5;124mA non-zero length must be specified with an int initialiser.\u001b[39m\u001b[38;5;124m\"\u001b[39m)\n\u001b[0;32m    671\u001b[0m \u001b[38;5;28mself\u001b[39m\u001b[38;5;241m.\u001b[39m_bitstore \u001b[38;5;241m=\u001b[39m bitstore_helpers\u001b[38;5;241m.\u001b[39mint2bitstore(int_, length, \u001b[38;5;28;01mTrue\u001b[39;00m)\n",
      "\u001b[1;31mValueError\u001b[0m: A non-zero length must be specified with an int initialiser."
     ]
    }
   ],
   "source": [
    "from bitstring import BitArray\n",
    "\n",
    "c = BitArray()\n",
    "c.int = 100\n",
    "print(c.bin)"
   ]
  }
 ],
 "metadata": {
  "kernelspec": {
   "display_name": "venv",
   "language": "python",
   "name": "python3"
  },
  "language_info": {
   "codemirror_mode": {
    "name": "ipython",
    "version": 3
   },
   "file_extension": ".py",
   "mimetype": "text/x-python",
   "name": "python",
   "nbconvert_exporter": "python",
   "pygments_lexer": "ipython3",
   "version": "3.13.0"
  }
 },
 "nbformat": 4,
 "nbformat_minor": 2
}
